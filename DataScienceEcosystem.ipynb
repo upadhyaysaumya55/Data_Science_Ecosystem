{
 "cells": [
  {
   "cell_type": "markdown",
   "id": "096a2d38-237e-4f02-93ef-0a2d3919f62e",
   "metadata": {},
   "source": [
    "# Execute it as a markdown cell\n",
    "# H1:  Data Science Tools and Ecosystem"
   ]
  },
  {
   "attachments": {},
   "cell_type": "markdown",
   "id": "5d8044cf-f023-4025-bb95-85944b88eacd",
   "metadata": {},
   "source": [
    "# Execute it as markdown cell\n",
    "***In this notebook, Data Science Tools and Ecosystem are summarized.***\n",
    "**Objectives**\n",
    "# List popular languages for data science\n",
    "- Python\n",
    "- R\n",
    "- SQL"
   ]
  },
  {
   "cell_type": "markdown",
   "id": "928897d7-3693-4944-8055-ab5703a1e836",
   "metadata": {},
   "source": [
    "# Execute as a markdown cell\n",
    "# Some of the popular languages that Data Scientists use are:\n",
    "1. first language - python\n",
    "2. second language - R\n",
    "3. third language - SQL"
   ]
  },
  {
   "cell_type": "markdown",
   "id": "a7515748-5567-48bc-b4f7-e1e25f43dac0",
   "metadata": {},
   "source": [
    "# Execute as a markdown cell\n",
    "# Some of the commonly used libraries used by Data Scientists include:\n",
    "1. Matplotlib\n",
    "2. Scikit-learn\n",
    "3. PyTorch"
   ]
  },
  {
   "cell_type": "markdown",
   "id": "2d8282de-5e53-421b-9062-2f88740807dd",
   "metadata": {},
   "source": [
    "# Execute as a markdown\n",
    "# H1: Data Science Tools\n",
    "| First | Jupyter Notebook |  \n",
    "| Second | RStudio |  \n",
    "| Third | KNIME |  "
   ]
  },
  {
   "cell_type": "code",
   "execution_count": 3,
   "id": "fdcdbf03-66ef-4146-8634-1a3f3101ffc1",
   "metadata": {},
   "outputs": [
    {
     "data": {
      "text/plain": [
       "17"
      ]
     },
     "execution_count": 3,
     "metadata": {},
     "output_type": "execute_result"
    }
   ],
   "source": [
    "# Execute as a markdown cell\n",
    "# H3: Below are a few examples of evaluating arithmetic expressions in Python.\n",
    "# This a simple arithmetic expression to mutiply then add integers.\n",
    "(3 * 4) + 5"
   ]
  },
  {
   "cell_type": "markdown",
   "id": "53e7804b-28f9-46c6-b939-2e649cde4258",
   "metadata": {},
   "source": []
  },
  {
   "cell_type": "code",
   "execution_count": 4,
   "id": "054291be-d7c7-47fb-9670-67f842736eb6",
   "metadata": {},
   "outputs": [
    {
     "data": {
      "text/plain": [
       "3.3333333333333335"
      ]
     },
     "execution_count": 4,
     "metadata": {},
     "output_type": "execute_result"
    }
   ],
   "source": [
    "## Execute as a code\n",
    "# This will convert 200 minutes to hours by diving by 60.\n",
    "200 / 60"
   ]
  },
  {
   "cell_type": "markdown",
   "id": "d02f5351-7c12-4ddf-95d1-1eacb1721181",
   "metadata": {},
   "source": [
    "# Execute as a markdown cell\n",
    "# H2: Author\n",
    "Saumya Kumari"
   ]
  },
  {
   "cell_type": "code",
   "execution_count": null,
   "id": "c2e1ef42-e0be-4251-928c-0ab792b49913",
   "metadata": {},
   "outputs": [],
   "source": []
  }
 ],
 "metadata": {
  "kernelspec": {
   "display_name": "Python 3 (ipykernel)",
   "language": "python",
   "name": "python3"
  },
  "language_info": {
   "codemirror_mode": {
    "name": "ipython",
    "version": 3
   },
   "file_extension": ".py",
   "mimetype": "text/x-python",
   "name": "python",
   "nbconvert_exporter": "python",
   "pygments_lexer": "ipython3",
   "version": "3.12.8"
  }
 },
 "nbformat": 4,
 "nbformat_minor": 5
}
